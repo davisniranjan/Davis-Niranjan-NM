{
  "nbformat": 4,
  "nbformat_minor": 0,
  "metadata": {
    "colab": {
      "provenance": []
    },
    "kernelspec": {
      "name": "python3",
      "display_name": "Python 3"
    },
    "language_info": {
      "name": "python"
    }
  },
  "cells": [
    {
      "cell_type": "code",
      "execution_count": null,
      "metadata": {
        "id": "CIAVmKZAEdhU"
      },
      "outputs": [],
      "source": [
        "import numpy as np\n",
        "import pandas as pd\n",
        "from sklearn.model_selection import train_test_split\n",
        "from sklearn.preprocessing import StandardScaler\n",
        "from tensorflow.keras.models import Sequential\n",
        "from tensorflow.keras.layers import Conv1D, MaxPooling1D, Flatten, Dense, Dropout, LSTM"
      ]
    },
    {
      "cell_type": "code",
      "source": [
        "data = pd.read_csv('Heart_failure_record.csv')"
      ],
      "metadata": {
        "id": "j8CnT1STFcNQ"
      },
      "execution_count": null,
      "outputs": []
    },
    {
      "cell_type": "code",
      "source": [
        "X = data.drop(columns=['DEATH_EVENT'])\n",
        "y = data['DEATH_EVENT']\n",
        "X_train, X_test, y_train, y_test = train_test_split(X, y, test_size=0.2, random_state=42)"
      ],
      "metadata": {
        "id": "x2HaizYUFmvB"
      },
      "execution_count": null,
      "outputs": []
    },
    {
      "cell_type": "code",
      "source": [
        "sc = StandardScaler()\n",
        "X_train = sc.fit_transform(X_train)\n",
        "X_test = sc.transform(X_test)"
      ],
      "metadata": {
        "id": "KrEJOXd6F3Ub"
      },
      "execution_count": null,
      "outputs": []
    },
    {
      "cell_type": "code",
      "source": [
        "X_train_cnn = X_train.reshape(X_train.shape[0], X_train.shape[1], 1)\n",
        "X_test_cnn = X_test.reshape(X_test.shape[0], X_test.shape[1], 1)"
      ],
      "metadata": {
        "id": "Pg2O3D3hF6Lr"
      },
      "execution_count": null,
      "outputs": []
    },
    {
      "cell_type": "code",
      "source": [
        "X_train_rnn = X_train.reshape(X_train.shape[0], X_train.shape[1], 1)\n",
        "X_test_rnn = X_test.reshape(X_test.shape[0], X_test.shape[1], 1)"
      ],
      "metadata": {
        "id": "9h_JzqWCJD3T"
      },
      "execution_count": null,
      "outputs": []
    },
    {
      "cell_type": "code",
      "source": [
        "cnn_model = Sequential([\n",
        "    Conv1D(filters=64, kernel_size=3, activation='relu', input_shape=(X_train_cnn.shape[1], 1)),\n",
        "    MaxPooling1D(pool_size=2),\n",
        "    Flatten(),\n",
        "    Dense(64, activation='relu'),\n",
        "    Dropout(0.5),\n",
        "    Dense(1, activation='sigmoid')\n",
        "])\n",
        "cnn_model.compile(optimizer='adam', loss='binary_crossentropy', metrics=['accuracy'])\n",
        "cnn_history = cnn_model.fit(X_train_cnn, y_train, batch_size=32, epochs=5, validation_split=0.2, verbose=1)\n",
        "cnn_loss, cnn_accuracy = cnn_model.evaluate(X_test_cnn, y_test)\n",
        "print(f'CNN Test Loss: {cnn_loss}, Test Accuracy: {cnn_accuracy}')"
      ],
      "metadata": {
        "id": "tM7L9ZaZGCM8",
        "colab": {
          "base_uri": "https://localhost:8080/"
        },
        "outputId": "cd68ce4a-86cc-4966-b90c-60fe7925f1be"
      },
      "execution_count": null,
      "outputs": [
        {
          "output_type": "stream",
          "name": "stdout",
          "text": [
            "Epoch 1/5\n",
            "100/100 [==============================] - 1s 5ms/step - loss: 0.5231 - accuracy: 0.7503 - val_loss: 0.4427 - val_accuracy: 0.8087\n",
            "Epoch 2/5\n",
            "100/100 [==============================] - 0s 3ms/step - loss: 0.3896 - accuracy: 0.8347 - val_loss: 0.3692 - val_accuracy: 0.8400\n",
            "Epoch 3/5\n",
            "100/100 [==============================] - 0s 3ms/step - loss: 0.3403 - accuracy: 0.8550 - val_loss: 0.3533 - val_accuracy: 0.8575\n",
            "Epoch 4/5\n",
            "100/100 [==============================] - 0s 3ms/step - loss: 0.3115 - accuracy: 0.8734 - val_loss: 0.3417 - val_accuracy: 0.8562\n",
            "Epoch 5/5\n",
            "100/100 [==============================] - 0s 3ms/step - loss: 0.2887 - accuracy: 0.8847 - val_loss: 0.3032 - val_accuracy: 0.8712\n",
            "32/32 [==============================] - 0s 2ms/step - loss: 0.2868 - accuracy: 0.8840\n",
            "CNN Test Loss: 0.28684568405151367, Test Accuracy: 0.8840000033378601\n"
          ]
        }
      ]
    },
    {
      "cell_type": "code",
      "source": [
        "rnn_model = Sequential([\n",
        "    LSTM(units=64, activation='relu', input_shape=(X_train_rnn.shape[1], 1)),\n",
        "    Dense(64, activation='relu'),\n",
        "    Dropout(0.5),\n",
        "    Dense(1, activation='sigmoid')\n",
        "])\n",
        "rnn_model.compile(optimizer='adam', loss='binary_crossentropy', metrics=['accuracy'])\n",
        "rnn_history = rnn_model.fit(X_train_rnn, y_train, batch_size=32, epochs=5, validation_split=0.2, verbose=1)\n",
        "rnn_loss, rnn_accuracy = rnn_model.evaluate(X_test_rnn, y_test)\n",
        "print(f'RNN Test Loss: {rnn_loss}, Test Accuracy: {rnn_accuracy}')"
      ],
      "metadata": {
        "colab": {
          "base_uri": "https://localhost:8080/"
        },
        "id": "_KLRhGqhHlLP",
        "outputId": "77218e01-0065-48ba-c649-948de70c9956"
      },
      "execution_count": null,
      "outputs": [
        {
          "output_type": "stream",
          "name": "stdout",
          "text": [
            "Epoch 1/5\n",
            "100/100 [==============================] - 3s 10ms/step - loss: 0.6085 - accuracy: 0.6875 - val_loss: 0.5412 - val_accuracy: 0.6938\n",
            "Epoch 2/5\n",
            "100/100 [==============================] - 1s 7ms/step - loss: 0.4796 - accuracy: 0.7978 - val_loss: 0.4865 - val_accuracy: 0.8125\n",
            "Epoch 3/5\n",
            "100/100 [==============================] - 1s 7ms/step - loss: 0.4496 - accuracy: 0.8259 - val_loss: 0.4611 - val_accuracy: 0.8263\n",
            "Epoch 4/5\n",
            "100/100 [==============================] - 1s 6ms/step - loss: 0.4278 - accuracy: 0.8397 - val_loss: 0.4421 - val_accuracy: 0.7862\n",
            "Epoch 5/5\n",
            "100/100 [==============================] - 1s 7ms/step - loss: 0.3988 - accuracy: 0.8363 - val_loss: 0.4696 - val_accuracy: 0.8012\n",
            "32/32 [==============================] - 0s 3ms/step - loss: 0.4253 - accuracy: 0.8070\n",
            "RNN Test Loss: 0.4253404438495636, Test Accuracy: 0.8069999814033508\n"
          ]
        }
      ]
    },
    {
      "cell_type": "code",
      "source": [
        "ann_model = Sequential([\n",
        "    Dense(64, activation='relu', input_shape=(X_train.shape[1],)),\n",
        "    Dropout(0.5),\n",
        "    Dense(32, activation='relu'),\n",
        "    Dropout(0.5),\n",
        "    Dense(1, activation='sigmoid')\n",
        "])\n",
        "ann_model.compile(optimizer='adam', loss='binary_crossentropy', metrics=['accuracy'])\n",
        "ann_history = ann_model.fit(X_train, y_train, batch_size=32, epochs=5, validation_split=0.2, verbose=1)\n",
        "ann_loss, ann_accuracy = ann_model.evaluate(X_test, y_test)\n",
        "print(f'ANN Test Loss: {ann_loss}, Test Accuracy: {ann_accuracy}')"
      ],
      "metadata": {
        "colab": {
          "base_uri": "https://localhost:8080/"
        },
        "id": "EwpbnjpvH5uy",
        "outputId": "f92a9a74-0bbb-46ca-d298-f4e386705812"
      },
      "execution_count": null,
      "outputs": [
        {
          "output_type": "stream",
          "name": "stdout",
          "text": [
            "Epoch 1/5\n",
            "100/100 [==============================] - 2s 8ms/step - loss: 0.5994 - accuracy: 0.6841 - val_loss: 0.4553 - val_accuracy: 0.7875\n",
            "Epoch 2/5\n",
            "100/100 [==============================] - 0s 4ms/step - loss: 0.4549 - accuracy: 0.7916 - val_loss: 0.3791 - val_accuracy: 0.8475\n",
            "Epoch 3/5\n",
            "100/100 [==============================] - 0s 5ms/step - loss: 0.3993 - accuracy: 0.8263 - val_loss: 0.3580 - val_accuracy: 0.8425\n",
            "Epoch 4/5\n",
            "100/100 [==============================] - 1s 6ms/step - loss: 0.3641 - accuracy: 0.8388 - val_loss: 0.3429 - val_accuracy: 0.8487\n",
            "Epoch 5/5\n",
            "100/100 [==============================] - 0s 3ms/step - loss: 0.3589 - accuracy: 0.8516 - val_loss: 0.3328 - val_accuracy: 0.8512\n",
            "32/32 [==============================] - 0s 1ms/step - loss: 0.3147 - accuracy: 0.8650\n",
            "ANN Test Loss: 0.314679890871048, Test Accuracy: 0.8650000095367432\n"
          ]
        }
      ]
    }
  ]
}